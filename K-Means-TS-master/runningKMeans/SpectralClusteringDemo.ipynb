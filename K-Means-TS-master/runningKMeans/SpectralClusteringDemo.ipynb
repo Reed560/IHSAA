{
 "cells": [
  {
   "cell_type": "code",
   "execution_count": 1,
   "metadata": {},
   "outputs": [],
   "source": [
    "import numpy as np\n",
    "import scipy as sp\n",
    "import networkx as nx\n",
    "from kmeans import kmeans\n",
    "from spectral_clustering import spectral_clustering, laplacian_matrix, similarity_matrix\n",
    "from scipy import linalg\n",
    "import matplotlib.pyplot as plt\n",
    "from mpl_toolkits.mplot3d import Axes3D\n",
    "import pandas as pd\n",
    "import descartes\n",
    "import geopandas as gpd\n",
    "from shapely.geometry import Point, Polygon"
   ]
  },
  {
   "cell_type": "markdown",
   "metadata": {},
   "source": [
    "If you decide that k-means++ is not sufficient, my recommendation is to try a method called graph spectral clustering, implemented here. We did not see enough benefit to continue working with it. However, you may find a reason to use the method, so the resource is still there for you. This method will take a bit to understand, but the basic idea is that it treats each school as a node on a graph where distances are edge weights and uses the spectral properties of the graph to reduce the dimension of the data. Then, an algorithm like k-means++ takes over and finishes the clustering. There is a lot of math (specifically linear algebra) involved in this method, and the handbook on this technique can be found here:  https://arxiv.org/abs/0711.0189\n",
    "\n",
    "This file takes in the unclustered 2A Baseball data and runs Shi and Malik's graph spectral clustering algorithm. I found that this didn't have any worthwhile improvements over k-means, but in case you decide you want to investigate GSC more, this file will help you do that. \n",
    "\n",
    "The python code used for the actual clustering algorithm comes from https://ghost-clusters.github.io/icerm-spectral-clustering/"
   ]
  },
  {
   "cell_type": "code",
   "execution_count": 2,
   "metadata": {
    "scrolled": true
   },
   "outputs": [],
   "source": [
    "# reading the data\n",
    "text_file = open(\"2ABaseballLatLonPython.txt\", \"r\")\n",
    "lines = text_file.readlines()\n",
    "text_file.close()\n",
    "\n",
    "k = len(lines)\n",
    "x = []\n",
    "data = np.zeros((k,2))\n",
    "for i in range(k):\n",
    "    x = lines[i].split(\"  \")\n",
    "    data[i][0] = float(x[0])\n",
    "    data[i][1] = float(x[1])"
   ]
  },
  {
   "cell_type": "code",
   "execution_count": 3,
   "metadata": {},
   "outputs": [
    {
     "name": "stdout",
     "output_type": "stream",
     "text": [
      "[ 6. 10.  5.  1.  4.  4.  6.  6.  9.  2. 10.  8.  7.  5.  5. 10.]\n"
     ]
    }
   ],
   "source": [
    "# running graph spectral clustering\n",
    "# def spectral_clustering(data, k, lform, with_eigen = False, kmeans_iters = 100, numOfAtts=None, metric = None ,**kwargs):\n",
    "k = 16\n",
    "groups = np.array(spectral_clustering(data, k,\"sym\", with_eigen=False, kmeans_iters=1000))\n",
    "count = np.zeros(k)\n",
    "for i in range(len(groups)):\n",
    "    count[groups[i]] +=1\n",
    "print(count) # gives number of schools per cluster"
   ]
  },
  {
   "cell_type": "code",
   "execution_count": null,
   "metadata": {},
   "outputs": [],
   "source": [
    "# Plotting the clusters on a map of Indiana\n",
    "indiana = gpd.read_file('indianaShapeFile/tl_2010_18_tabblock10.shp')\n",
    "with plt.style.context((\"seaborn\", \"ggplot\")):\n",
    "    indiana['geometry'].plot(figsize=(18,10),\n",
    "               color=\"white\",\n",
    "               edgecolor = \"white\")\n",
    "    for i in range(len(groups)):\n",
    "        if groups[i] == 0:\n",
    "            plt.scatter(data[i][1], data[i][0], s=15, c='bisque', marker=\"s\", label='first')\n",
    "        if groups[i] == 1:\n",
    "            plt.scatter(data[i][1], data[i][0], s=15, c='olivedrab', marker=\"s\", label='first')\n",
    "        if groups[i] == 2:\n",
    "            plt.scatter(data[i][1], data[i][0], s=15, c='gold', marker=\"s\", label='first')\n",
    "        if groups[i] == 3:\n",
    "            plt.scatter(data[i][1], data[i][0], s=15, c='lightgreen', marker=\"s\", label='first')\n",
    "        if groups[i] == 4:\n",
    "            plt.scatter(data[i][1], data[i][0], s=15, c='darkorange', marker=\"s\", label='first')\n",
    "        if groups[i] == 5:\n",
    "            plt.scatter(data[i][1], data[i][0], s=15, c='seagreen', marker=\"s\", label='first')\n",
    "        if groups[i] == 6:\n",
    "            plt.scatter(data[i][1], data[i][0], s=15, c='turquoise', marker=\"s\", label='first')\n",
    "        if groups[i] == 7:\n",
    "            plt.scatter(data[i][1], data[i][0], s=15, c='maroon', marker=\"s\", label='first')\n",
    "        if groups[i] == 8:\n",
    "            plt.scatter(data[i][1], data[i][0], s=15, c='tomato', marker=\"s\", label='first')\n",
    "        if groups[i] == 9:\n",
    "            plt.scatter(data[i][1], data[i][0], s=15, c='deepskyblue', marker=\"s\", label='first')\n",
    "        if groups[i] == 10:\n",
    "            plt.scatter(data[i][1], data[i][0], s=15, c='cornflowerblue', marker=\"s\", label='first')\n",
    "        if groups[i] == 11:\n",
    "            plt.scatter(data[i][1], data[i][0], s=15, c='slateblue', marker=\"s\", label='first')\n",
    "        if groups[i] == 12:\n",
    "            plt.scatter(data[i][1], data[i][0], s=15, c='purple', marker=\"s\", label='first')\n",
    "        if groups[i] == 13:\n",
    "            plt.scatter(data[i][1], data[i][0], s=15, c='blueviolet', marker=\"s\", label='first')\n",
    "        if groups[i] == 14:\n",
    "            plt.scatter(data[i][1], data[i][0], s=15, c='magenta', marker=\"s\", label='first')\n",
    "        if groups[i] == 15:\n",
    "            plt.scatter(data[i][1], data[i][0], s=15, c='crimson', marker=\"s\", label='first')"
   ]
  }
 ],
 "metadata": {
  "kernelspec": {
   "display_name": "Python 3",
   "language": "python",
   "name": "python3"
  },
  "language_info": {
   "codemirror_mode": {
    "name": "ipython",
    "version": 3
   },
   "file_extension": ".py",
   "mimetype": "text/x-python",
   "name": "python",
   "nbconvert_exporter": "python",
   "pygments_lexer": "ipython3",
   "version": "3.8.5"
  }
 },
 "nbformat": 4,
 "nbformat_minor": 4
}
